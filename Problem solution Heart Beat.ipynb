{
  "nbformat": 4,
  "nbformat_minor": 0,
  "metadata": {
    "colab": {
      "name": "test1.ipynb",
      "version": "0.3.2",
      "provenance": [],
      "include_colab_link": true
    },
    "kernelspec": {
      "name": "python3",
      "display_name": "Python 3"
    }
  },
  "cells": [
    {
      "cell_type": "markdown",
      "metadata": {
        "id": "view-in-github",
        "colab_type": "text"
      },
      "source": [
        "<a href=\"https://colab.research.google.com/github/utkanEris/keras/blob/master/Problem%20solution%20Heart%20Beat.ipynb\" target=\"_parent\"><img src=\"https://colab.research.google.com/assets/colab-badge.svg\" alt=\"Open In Colab\"/></a>"
      ]
    },
    {
      "metadata": {
        "id": "UU5Kst7Yauil",
        "colab_type": "code",
        "colab": {}
      },
      "cell_type": "code",
      "source": [
        "import keras"
      ],
      "execution_count": 0,
      "outputs": []
    },
    {
      "metadata": {
        "id": "QeF0oXG79URf",
        "colab_type": "code",
        "colab": {
          "base_uri": "https://localhost:8080/",
          "height": 34
        },
        "outputId": "fd7ce922-4a07-442b-dfd1-f5bbeaab9a55"
      },
      "cell_type": "code",
      "source": [
        "cd \"/content/drive/My Drive/app\""
      ],
      "execution_count": 172,
      "outputs": [
        {
          "output_type": "stream",
          "text": [
            "/content/drive/My Drive/app\n"
          ],
          "name": "stdout"
        }
      ]
    },
    {
      "metadata": {
        "id": "HbU_1pNQ9Wxu",
        "colab_type": "code",
        "colab": {
          "base_uri": "https://localhost:8080/",
          "height": 85
        },
        "outputId": "9ecef475-a88d-41b3-ab4e-8229674619c6"
      },
      "cell_type": "code",
      "source": [
        "ls"
      ],
      "execution_count": 173,
      "outputs": [
        {
          "output_type": "stream",
          "text": [
            "'Copy of mnist_cnn.py'            kaggle.json       test3.ipynb\n",
            " heart.csv                        mnist_cnn.ipynb   Titanic.csv\n",
            " jena_climate_2009_2016.csv       mnist_cnn.py\n",
            " jena_climate_2009_2016.csv.zip   test1.ipynb\n"
          ],
          "name": "stdout"
        }
      ]
    },
    {
      "metadata": {
        "id": "vHJYIY9z9dQY",
        "colab_type": "code",
        "colab": {}
      },
      "cell_type": "code",
      "source": [
        "from numpy import genfromtxt\n",
        "full_data = genfromtxt('heart.csv',skip_header=1, delimiter=',')"
      ],
      "execution_count": 0,
      "outputs": []
    },
    {
      "metadata": {
        "id": "-p_4seDP-nM8",
        "colab_type": "code",
        "colab": {}
      },
      "cell_type": "code",
      "source": [
        "import numpy as np"
      ],
      "execution_count": 0,
      "outputs": []
    },
    {
      "metadata": {
        "id": "V-N76oFa-qDg",
        "colab_type": "code",
        "colab": {}
      },
      "cell_type": "code",
      "source": [
        "np.random.shuffle(full_data)"
      ],
      "execution_count": 0,
      "outputs": []
    },
    {
      "metadata": {
        "id": "YGunQwvY-tlT",
        "colab_type": "code",
        "colab": {}
      },
      "cell_type": "code",
      "source": [
        "num_test_samples = 70"
      ],
      "execution_count": 0,
      "outputs": []
    },
    {
      "metadata": {
        "id": "1b3Fmvz3-1Og",
        "colab_type": "code",
        "colab": {}
      },
      "cell_type": "code",
      "source": [
        "test_data = full_data[:num_test_samples,:-1]\n",
        "train_data = full_data[num_test_samples:,:-1]\n",
        "test_targets = full_data[:num_test_samples,-1:]\n",
        "train_targets = full_data[num_test_samples:,-1:]"
      ],
      "execution_count": 0,
      "outputs": []
    },
    {
      "metadata": {
        "id": "82ne3JixB0j_",
        "colab_type": "code",
        "colab": {
          "base_uri": "https://localhost:8080/",
          "height": 34
        },
        "outputId": "079a88e9-0eda-4bfd-9aa2-0abdb26bed51"
      },
      "cell_type": "code",
      "source": [
        "train_data.shape"
      ],
      "execution_count": 243,
      "outputs": [
        {
          "output_type": "execute_result",
          "data": {
            "text/plain": [
              "(233, 13)"
            ]
          },
          "metadata": {
            "tags": []
          },
          "execution_count": 243
        }
      ]
    },
    {
      "metadata": {
        "id": "WRQD7GNUB2zK",
        "colab_type": "code",
        "colab": {
          "base_uri": "https://localhost:8080/",
          "height": 34
        },
        "outputId": "cf9dcdb1-20af-44ff-a713-4c5c14cf55c9"
      },
      "cell_type": "code",
      "source": [
        "train_data.shape[1]"
      ],
      "execution_count": 244,
      "outputs": [
        {
          "output_type": "execute_result",
          "data": {
            "text/plain": [
              "13"
            ]
          },
          "metadata": {
            "tags": []
          },
          "execution_count": 244
        }
      ]
    },
    {
      "metadata": {
        "id": "dhk0dHj0_4JI",
        "colab_type": "code",
        "colab": {}
      },
      "cell_type": "code",
      "source": [
        "mean = train_data.mean(axis=0)\n",
        "train_data -= mean\n",
        "std = train_data.std(axis=0)\n",
        "train_data /= std\n",
        "\n",
        "test_data -= mean\n",
        "test_data /= std"
      ],
      "execution_count": 0,
      "outputs": []
    },
    {
      "metadata": {
        "id": "IueuIaC4AOP4",
        "colab_type": "code",
        "colab": {}
      },
      "cell_type": "code",
      "source": [
        "from keras import models\n",
        "from keras import layers\n",
        "\n",
        "model = models.Sequential()\n",
        "model.add(layers.Dense(36, activation='relu', input_shape=(train_data.shape[1],)))\n",
        "model.add(layers.Dense(12, activation='relu'))\n",
        "model.add(layers.Dense(1, activation='sigmoid'))"
      ],
      "execution_count": 0,
      "outputs": []
    },
    {
      "metadata": {
        "id": "PaHP6xvvCTdo",
        "colab_type": "code",
        "colab": {}
      },
      "cell_type": "code",
      "source": [
        "model.compile(optimizer='rmsprop',\n",
        "              loss='binary_crossentropy',\n",
        "              metrics=['accuracy'])"
      ],
      "execution_count": 0,
      "outputs": []
    },
    {
      "metadata": {
        "id": "9bvTolKsCojw",
        "colab_type": "code",
        "colab": {}
      },
      "cell_type": "code",
      "source": [
        "\n",
        "x_val = train_data[:60]\n",
        "partial_x_train = train_data[60:]\n",
        "\n",
        "y_val = train_targets[:60]\n",
        "partial_y_train = train_targets[60:]"
      ],
      "execution_count": 0,
      "outputs": []
    },
    {
      "metadata": {
        "id": "UYt-rwJ0DFhJ",
        "colab_type": "code",
        "colab": {
          "base_uri": "https://localhost:8080/",
          "height": 6834
        },
        "outputId": "f6700931-3e86-42c3-f192-9d5cac69341a"
      },
      "cell_type": "code",
      "source": [
        "history = model.fit(partial_x_train,\n",
        "                    partial_y_train,\n",
        "                    epochs=200,\n",
        "                    batch_size=512,\n",
        "                    validation_data=(x_val, y_val))"
      ],
      "execution_count": 249,
      "outputs": [
        {
          "output_type": "stream",
          "text": [
            "Train on 173 samples, validate on 60 samples\n",
            "Epoch 1/200\n",
            "173/173 [==============================] - 1s 8ms/step - loss: 0.6934 - acc: 0.5145 - val_loss: 0.6917 - val_acc: 0.6000\n",
            "Epoch 2/200\n",
            "173/173 [==============================] - 0s 43us/step - loss: 0.6745 - acc: 0.5838 - val_loss: 0.6812 - val_acc: 0.6500\n",
            "Epoch 3/200\n",
            "173/173 [==============================] - 0s 31us/step - loss: 0.6611 - acc: 0.6301 - val_loss: 0.6725 - val_acc: 0.6500\n",
            "Epoch 4/200\n",
            "173/173 [==============================] - 0s 29us/step - loss: 0.6496 - acc: 0.6705 - val_loss: 0.6644 - val_acc: 0.6500\n",
            "Epoch 5/200\n",
            "173/173 [==============================] - 0s 30us/step - loss: 0.6394 - acc: 0.6936 - val_loss: 0.6564 - val_acc: 0.6667\n",
            "Epoch 6/200\n",
            "173/173 [==============================] - 0s 25us/step - loss: 0.6302 - acc: 0.6994 - val_loss: 0.6491 - val_acc: 0.6833\n",
            "Epoch 7/200\n",
            "173/173 [==============================] - 0s 26us/step - loss: 0.6218 - acc: 0.7168 - val_loss: 0.6418 - val_acc: 0.7000\n",
            "Epoch 8/200\n",
            "173/173 [==============================] - 0s 27us/step - loss: 0.6137 - acc: 0.7283 - val_loss: 0.6345 - val_acc: 0.7167\n",
            "Epoch 9/200\n",
            "173/173 [==============================] - 0s 28us/step - loss: 0.6059 - acc: 0.7399 - val_loss: 0.6274 - val_acc: 0.7333\n",
            "Epoch 10/200\n",
            "173/173 [==============================] - 0s 15us/step - loss: 0.5984 - acc: 0.7572 - val_loss: 0.6203 - val_acc: 0.7500\n",
            "Epoch 11/200\n",
            "173/173 [==============================] - 0s 18us/step - loss: 0.5910 - acc: 0.7630 - val_loss: 0.6134 - val_acc: 0.7500\n",
            "Epoch 12/200\n",
            "173/173 [==============================] - 0s 18us/step - loss: 0.5838 - acc: 0.7746 - val_loss: 0.6065 - val_acc: 0.7500\n",
            "Epoch 13/200\n",
            "173/173 [==============================] - 0s 19us/step - loss: 0.5768 - acc: 0.7803 - val_loss: 0.5993 - val_acc: 0.7667\n",
            "Epoch 14/200\n",
            "173/173 [==============================] - 0s 27us/step - loss: 0.5698 - acc: 0.7861 - val_loss: 0.5921 - val_acc: 0.7500\n",
            "Epoch 15/200\n",
            "173/173 [==============================] - 0s 24us/step - loss: 0.5629 - acc: 0.7861 - val_loss: 0.5849 - val_acc: 0.7667\n",
            "Epoch 16/200\n",
            "173/173 [==============================] - 0s 24us/step - loss: 0.5561 - acc: 0.7861 - val_loss: 0.5779 - val_acc: 0.7833\n",
            "Epoch 17/200\n",
            "173/173 [==============================] - 0s 26us/step - loss: 0.5495 - acc: 0.7977 - val_loss: 0.5710 - val_acc: 0.7833\n",
            "Epoch 18/200\n",
            "173/173 [==============================] - 0s 19us/step - loss: 0.5431 - acc: 0.8035 - val_loss: 0.5642 - val_acc: 0.7833\n",
            "Epoch 19/200\n",
            "173/173 [==============================] - 0s 17us/step - loss: 0.5367 - acc: 0.8092 - val_loss: 0.5574 - val_acc: 0.7833\n",
            "Epoch 20/200\n",
            "173/173 [==============================] - 0s 21us/step - loss: 0.5301 - acc: 0.8092 - val_loss: 0.5506 - val_acc: 0.7833\n",
            "Epoch 21/200\n",
            "173/173 [==============================] - 0s 32us/step - loss: 0.5235 - acc: 0.8150 - val_loss: 0.5441 - val_acc: 0.7833\n",
            "Epoch 22/200\n",
            "173/173 [==============================] - 0s 27us/step - loss: 0.5172 - acc: 0.8150 - val_loss: 0.5376 - val_acc: 0.8000\n",
            "Epoch 23/200\n",
            "173/173 [==============================] - 0s 26us/step - loss: 0.5109 - acc: 0.8208 - val_loss: 0.5313 - val_acc: 0.8000\n",
            "Epoch 24/200\n",
            "173/173 [==============================] - 0s 25us/step - loss: 0.5046 - acc: 0.8324 - val_loss: 0.5252 - val_acc: 0.8000\n",
            "Epoch 25/200\n",
            "173/173 [==============================] - 0s 16us/step - loss: 0.4984 - acc: 0.8324 - val_loss: 0.5192 - val_acc: 0.8000\n",
            "Epoch 26/200\n",
            "173/173 [==============================] - 0s 22us/step - loss: 0.4922 - acc: 0.8266 - val_loss: 0.5133 - val_acc: 0.8167\n",
            "Epoch 27/200\n",
            "173/173 [==============================] - 0s 18us/step - loss: 0.4863 - acc: 0.8266 - val_loss: 0.5076 - val_acc: 0.8167\n",
            "Epoch 28/200\n",
            "173/173 [==============================] - 0s 20us/step - loss: 0.4804 - acc: 0.8266 - val_loss: 0.5018 - val_acc: 0.8167\n",
            "Epoch 29/200\n",
            "173/173 [==============================] - 0s 21us/step - loss: 0.4746 - acc: 0.8266 - val_loss: 0.4963 - val_acc: 0.8167\n",
            "Epoch 30/200\n",
            "173/173 [==============================] - 0s 21us/step - loss: 0.4690 - acc: 0.8324 - val_loss: 0.4909 - val_acc: 0.8000\n",
            "Epoch 31/200\n",
            "173/173 [==============================] - 0s 28us/step - loss: 0.4635 - acc: 0.8324 - val_loss: 0.4857 - val_acc: 0.8000\n",
            "Epoch 32/200\n",
            "173/173 [==============================] - 0s 25us/step - loss: 0.4582 - acc: 0.8382 - val_loss: 0.4805 - val_acc: 0.8000\n",
            "Epoch 33/200\n",
            "173/173 [==============================] - 0s 16us/step - loss: 0.4529 - acc: 0.8439 - val_loss: 0.4758 - val_acc: 0.8000\n",
            "Epoch 34/200\n",
            "173/173 [==============================] - 0s 18us/step - loss: 0.4478 - acc: 0.8439 - val_loss: 0.4709 - val_acc: 0.8000\n",
            "Epoch 35/200\n",
            "173/173 [==============================] - 0s 16us/step - loss: 0.4427 - acc: 0.8382 - val_loss: 0.4662 - val_acc: 0.8000\n",
            "Epoch 36/200\n",
            "173/173 [==============================] - 0s 24us/step - loss: 0.4377 - acc: 0.8382 - val_loss: 0.4617 - val_acc: 0.8167\n",
            "Epoch 37/200\n",
            "173/173 [==============================] - 0s 29us/step - loss: 0.4329 - acc: 0.8382 - val_loss: 0.4572 - val_acc: 0.8167\n",
            "Epoch 38/200\n",
            "173/173 [==============================] - 0s 27us/step - loss: 0.4282 - acc: 0.8439 - val_loss: 0.4530 - val_acc: 0.8167\n",
            "Epoch 39/200\n",
            "173/173 [==============================] - 0s 20us/step - loss: 0.4237 - acc: 0.8439 - val_loss: 0.4487 - val_acc: 0.8167\n",
            "Epoch 40/200\n",
            "173/173 [==============================] - 0s 14us/step - loss: 0.4193 - acc: 0.8439 - val_loss: 0.4446 - val_acc: 0.8167\n",
            "Epoch 41/200\n",
            "173/173 [==============================] - 0s 17us/step - loss: 0.4150 - acc: 0.8382 - val_loss: 0.4407 - val_acc: 0.8167\n",
            "Epoch 42/200\n",
            "173/173 [==============================] - 0s 18us/step - loss: 0.4107 - acc: 0.8382 - val_loss: 0.4368 - val_acc: 0.8167\n",
            "Epoch 43/200\n",
            "173/173 [==============================] - 0s 14us/step - loss: 0.4065 - acc: 0.8439 - val_loss: 0.4330 - val_acc: 0.8167\n",
            "Epoch 44/200\n",
            "173/173 [==============================] - 0s 15us/step - loss: 0.4025 - acc: 0.8439 - val_loss: 0.4294 - val_acc: 0.8167\n",
            "Epoch 45/200\n",
            "173/173 [==============================] - 0s 17us/step - loss: 0.3986 - acc: 0.8439 - val_loss: 0.4258 - val_acc: 0.8333\n",
            "Epoch 46/200\n",
            "173/173 [==============================] - 0s 16us/step - loss: 0.3947 - acc: 0.8439 - val_loss: 0.4224 - val_acc: 0.8333\n",
            "Epoch 47/200\n",
            "173/173 [==============================] - 0s 21us/step - loss: 0.3910 - acc: 0.8439 - val_loss: 0.4190 - val_acc: 0.8333\n",
            "Epoch 48/200\n",
            "173/173 [==============================] - 0s 21us/step - loss: 0.3873 - acc: 0.8439 - val_loss: 0.4156 - val_acc: 0.8500\n",
            "Epoch 49/200\n",
            "173/173 [==============================] - 0s 32us/step - loss: 0.3836 - acc: 0.8439 - val_loss: 0.4123 - val_acc: 0.8500\n",
            "Epoch 50/200\n",
            "173/173 [==============================] - 0s 28us/step - loss: 0.3799 - acc: 0.8439 - val_loss: 0.4092 - val_acc: 0.8500\n",
            "Epoch 51/200\n",
            "173/173 [==============================] - 0s 25us/step - loss: 0.3764 - acc: 0.8497 - val_loss: 0.4061 - val_acc: 0.8500\n",
            "Epoch 52/200\n",
            "173/173 [==============================] - 0s 24us/step - loss: 0.3729 - acc: 0.8497 - val_loss: 0.4031 - val_acc: 0.8500\n",
            "Epoch 53/200\n",
            "173/173 [==============================] - 0s 22us/step - loss: 0.3695 - acc: 0.8497 - val_loss: 0.4001 - val_acc: 0.8500\n",
            "Epoch 54/200\n",
            "173/173 [==============================] - 0s 21us/step - loss: 0.3662 - acc: 0.8497 - val_loss: 0.3971 - val_acc: 0.8500\n",
            "Epoch 55/200\n",
            "173/173 [==============================] - 0s 20us/step - loss: 0.3629 - acc: 0.8497 - val_loss: 0.3943 - val_acc: 0.8500\n",
            "Epoch 56/200\n",
            "173/173 [==============================] - 0s 25us/step - loss: 0.3597 - acc: 0.8555 - val_loss: 0.3916 - val_acc: 0.8500\n",
            "Epoch 57/200\n",
            "173/173 [==============================] - 0s 21us/step - loss: 0.3565 - acc: 0.8555 - val_loss: 0.3888 - val_acc: 0.8500\n",
            "Epoch 58/200\n",
            "173/173 [==============================] - 0s 22us/step - loss: 0.3535 - acc: 0.8613 - val_loss: 0.3863 - val_acc: 0.8667\n",
            "Epoch 59/200\n",
            "173/173 [==============================] - 0s 26us/step - loss: 0.3505 - acc: 0.8613 - val_loss: 0.3838 - val_acc: 0.8667\n",
            "Epoch 60/200\n",
            "173/173 [==============================] - 0s 22us/step - loss: 0.3476 - acc: 0.8613 - val_loss: 0.3813 - val_acc: 0.8667\n",
            "Epoch 61/200\n",
            "173/173 [==============================] - 0s 19us/step - loss: 0.3448 - acc: 0.8613 - val_loss: 0.3790 - val_acc: 0.8667\n",
            "Epoch 62/200\n",
            "173/173 [==============================] - 0s 22us/step - loss: 0.3420 - acc: 0.8613 - val_loss: 0.3767 - val_acc: 0.8667\n",
            "Epoch 63/200\n",
            "173/173 [==============================] - 0s 19us/step - loss: 0.3392 - acc: 0.8613 - val_loss: 0.3746 - val_acc: 0.8833\n",
            "Epoch 64/200\n",
            "173/173 [==============================] - 0s 29us/step - loss: 0.3365 - acc: 0.8613 - val_loss: 0.3725 - val_acc: 0.8833\n",
            "Epoch 65/200\n",
            "173/173 [==============================] - 0s 42us/step - loss: 0.3338 - acc: 0.8613 - val_loss: 0.3704 - val_acc: 0.8833\n",
            "Epoch 66/200\n",
            "173/173 [==============================] - 0s 38us/step - loss: 0.3312 - acc: 0.8613 - val_loss: 0.3683 - val_acc: 0.8833\n",
            "Epoch 67/200\n",
            "173/173 [==============================] - 0s 25us/step - loss: 0.3285 - acc: 0.8613 - val_loss: 0.3663 - val_acc: 0.8833\n",
            "Epoch 68/200\n",
            "173/173 [==============================] - 0s 20us/step - loss: 0.3259 - acc: 0.8613 - val_loss: 0.3644 - val_acc: 0.8833\n",
            "Epoch 69/200\n",
            "173/173 [==============================] - 0s 17us/step - loss: 0.3234 - acc: 0.8671 - val_loss: 0.3626 - val_acc: 0.8833\n",
            "Epoch 70/200\n",
            "173/173 [==============================] - 0s 16us/step - loss: 0.3209 - acc: 0.8671 - val_loss: 0.3608 - val_acc: 0.8667\n",
            "Epoch 71/200\n",
            "173/173 [==============================] - 0s 15us/step - loss: 0.3184 - acc: 0.8786 - val_loss: 0.3592 - val_acc: 0.8667\n",
            "Epoch 72/200\n",
            "173/173 [==============================] - 0s 19us/step - loss: 0.3160 - acc: 0.8786 - val_loss: 0.3576 - val_acc: 0.8667\n",
            "Epoch 73/200\n",
            "173/173 [==============================] - 0s 16us/step - loss: 0.3136 - acc: 0.8844 - val_loss: 0.3559 - val_acc: 0.8667\n",
            "Epoch 74/200\n",
            "173/173 [==============================] - 0s 17us/step - loss: 0.3112 - acc: 0.8960 - val_loss: 0.3545 - val_acc: 0.8667\n",
            "Epoch 75/200\n",
            "173/173 [==============================] - 0s 19us/step - loss: 0.3089 - acc: 0.8960 - val_loss: 0.3531 - val_acc: 0.8667\n",
            "Epoch 76/200\n",
            "173/173 [==============================] - 0s 22us/step - loss: 0.3066 - acc: 0.8960 - val_loss: 0.3517 - val_acc: 0.8667\n",
            "Epoch 77/200\n",
            "173/173 [==============================] - 0s 20us/step - loss: 0.3044 - acc: 0.8960 - val_loss: 0.3505 - val_acc: 0.8667\n",
            "Epoch 78/200\n",
            "173/173 [==============================] - 0s 16us/step - loss: 0.3022 - acc: 0.8960 - val_loss: 0.3490 - val_acc: 0.8667\n",
            "Epoch 79/200\n",
            "173/173 [==============================] - 0s 18us/step - loss: 0.3001 - acc: 0.8960 - val_loss: 0.3478 - val_acc: 0.8667\n",
            "Epoch 80/200\n",
            "173/173 [==============================] - 0s 16us/step - loss: 0.2980 - acc: 0.8960 - val_loss: 0.3465 - val_acc: 0.8667\n",
            "Epoch 81/200\n",
            "173/173 [==============================] - 0s 15us/step - loss: 0.2959 - acc: 0.8960 - val_loss: 0.3453 - val_acc: 0.8667\n",
            "Epoch 82/200\n",
            "173/173 [==============================] - 0s 20us/step - loss: 0.2939 - acc: 0.8960 - val_loss: 0.3443 - val_acc: 0.8667\n",
            "Epoch 83/200\n",
            "173/173 [==============================] - 0s 20us/step - loss: 0.2918 - acc: 0.8960 - val_loss: 0.3431 - val_acc: 0.8667\n",
            "Epoch 84/200\n",
            "173/173 [==============================] - 0s 16us/step - loss: 0.2899 - acc: 0.8960 - val_loss: 0.3422 - val_acc: 0.8667\n",
            "Epoch 85/200\n",
            "173/173 [==============================] - 0s 21us/step - loss: 0.2879 - acc: 0.8960 - val_loss: 0.3412 - val_acc: 0.8667\n",
            "Epoch 86/200\n",
            "173/173 [==============================] - 0s 21us/step - loss: 0.2861 - acc: 0.8960 - val_loss: 0.3404 - val_acc: 0.8667\n",
            "Epoch 87/200\n",
            "173/173 [==============================] - 0s 17us/step - loss: 0.2841 - acc: 0.8960 - val_loss: 0.3394 - val_acc: 0.8667\n",
            "Epoch 88/200\n",
            "173/173 [==============================] - 0s 16us/step - loss: 0.2823 - acc: 0.8960 - val_loss: 0.3388 - val_acc: 0.8667\n",
            "Epoch 89/200\n",
            "173/173 [==============================] - 0s 22us/step - loss: 0.2804 - acc: 0.8960 - val_loss: 0.3380 - val_acc: 0.8667\n",
            "Epoch 90/200\n",
            "173/173 [==============================] - 0s 20us/step - loss: 0.2786 - acc: 0.8960 - val_loss: 0.3378 - val_acc: 0.8667\n",
            "Epoch 91/200\n",
            "173/173 [==============================] - 0s 16us/step - loss: 0.2768 - acc: 0.8960 - val_loss: 0.3369 - val_acc: 0.8667\n",
            "Epoch 92/200\n",
            "173/173 [==============================] - 0s 17us/step - loss: 0.2750 - acc: 0.8960 - val_loss: 0.3369 - val_acc: 0.8667\n",
            "Epoch 93/200\n",
            "173/173 [==============================] - 0s 20us/step - loss: 0.2733 - acc: 0.8960 - val_loss: 0.3361 - val_acc: 0.8667\n",
            "Epoch 94/200\n",
            "173/173 [==============================] - 0s 16us/step - loss: 0.2715 - acc: 0.8960 - val_loss: 0.3362 - val_acc: 0.8667\n",
            "Epoch 95/200\n",
            "173/173 [==============================] - 0s 15us/step - loss: 0.2698 - acc: 0.8960 - val_loss: 0.3354 - val_acc: 0.8667\n",
            "Epoch 96/200\n",
            "173/173 [==============================] - 0s 13us/step - loss: 0.2680 - acc: 0.8960 - val_loss: 0.3352 - val_acc: 0.8667\n",
            "Epoch 97/200\n",
            "173/173 [==============================] - 0s 22us/step - loss: 0.2664 - acc: 0.8960 - val_loss: 0.3347 - val_acc: 0.8667\n",
            "Epoch 98/200\n",
            "173/173 [==============================] - 0s 17us/step - loss: 0.2647 - acc: 0.8960 - val_loss: 0.3348 - val_acc: 0.8667\n",
            "Epoch 99/200\n",
            "173/173 [==============================] - 0s 16us/step - loss: 0.2630 - acc: 0.8960 - val_loss: 0.3341 - val_acc: 0.8667\n",
            "Epoch 100/200\n",
            "173/173 [==============================] - 0s 19us/step - loss: 0.2613 - acc: 0.8960 - val_loss: 0.3340 - val_acc: 0.8667\n",
            "Epoch 101/200\n",
            "173/173 [==============================] - 0s 18us/step - loss: 0.2597 - acc: 0.8960 - val_loss: 0.3334 - val_acc: 0.8667\n",
            "Epoch 102/200\n",
            "173/173 [==============================] - 0s 19us/step - loss: 0.2581 - acc: 0.8960 - val_loss: 0.3330 - val_acc: 0.8667\n",
            "Epoch 103/200\n",
            "173/173 [==============================] - 0s 17us/step - loss: 0.2565 - acc: 0.8960 - val_loss: 0.3331 - val_acc: 0.8667\n",
            "Epoch 104/200\n",
            "173/173 [==============================] - 0s 18us/step - loss: 0.2550 - acc: 0.8960 - val_loss: 0.3324 - val_acc: 0.8667\n",
            "Epoch 105/200\n",
            "173/173 [==============================] - 0s 15us/step - loss: 0.2534 - acc: 0.8960 - val_loss: 0.3324 - val_acc: 0.8667\n",
            "Epoch 106/200\n",
            "173/173 [==============================] - 0s 15us/step - loss: 0.2519 - acc: 0.9017 - val_loss: 0.3319 - val_acc: 0.8667\n",
            "Epoch 107/200\n",
            "173/173 [==============================] - 0s 20us/step - loss: 0.2503 - acc: 0.9017 - val_loss: 0.3318 - val_acc: 0.8667\n",
            "Epoch 108/200\n",
            "173/173 [==============================] - 0s 18us/step - loss: 0.2488 - acc: 0.9017 - val_loss: 0.3314 - val_acc: 0.8667\n",
            "Epoch 109/200\n",
            "173/173 [==============================] - 0s 20us/step - loss: 0.2472 - acc: 0.9075 - val_loss: 0.3314 - val_acc: 0.8667\n",
            "Epoch 110/200\n",
            "173/173 [==============================] - 0s 16us/step - loss: 0.2457 - acc: 0.9075 - val_loss: 0.3313 - val_acc: 0.8667\n",
            "Epoch 111/200\n",
            "173/173 [==============================] - 0s 15us/step - loss: 0.2442 - acc: 0.9075 - val_loss: 0.3309 - val_acc: 0.8667\n",
            "Epoch 112/200\n",
            "173/173 [==============================] - 0s 16us/step - loss: 0.2427 - acc: 0.9075 - val_loss: 0.3307 - val_acc: 0.8667\n",
            "Epoch 113/200\n",
            "173/173 [==============================] - 0s 20us/step - loss: 0.2412 - acc: 0.9075 - val_loss: 0.3306 - val_acc: 0.8667\n",
            "Epoch 114/200\n",
            "173/173 [==============================] - 0s 18us/step - loss: 0.2397 - acc: 0.9075 - val_loss: 0.3301 - val_acc: 0.8667\n",
            "Epoch 115/200\n",
            "173/173 [==============================] - 0s 20us/step - loss: 0.2382 - acc: 0.9017 - val_loss: 0.3300 - val_acc: 0.8667\n",
            "Epoch 116/200\n",
            "173/173 [==============================] - 0s 19us/step - loss: 0.2367 - acc: 0.9075 - val_loss: 0.3298 - val_acc: 0.8667\n",
            "Epoch 117/200\n",
            "173/173 [==============================] - 0s 20us/step - loss: 0.2353 - acc: 0.9133 - val_loss: 0.3297 - val_acc: 0.8667\n",
            "Epoch 118/200\n",
            "173/173 [==============================] - 0s 19us/step - loss: 0.2338 - acc: 0.9133 - val_loss: 0.3299 - val_acc: 0.8667\n",
            "Epoch 119/200\n",
            "173/173 [==============================] - 0s 21us/step - loss: 0.2323 - acc: 0.9133 - val_loss: 0.3298 - val_acc: 0.8667\n",
            "Epoch 120/200\n",
            "173/173 [==============================] - 0s 23us/step - loss: 0.2308 - acc: 0.9133 - val_loss: 0.3300 - val_acc: 0.8667\n",
            "Epoch 121/200\n",
            "173/173 [==============================] - 0s 34us/step - loss: 0.2294 - acc: 0.9133 - val_loss: 0.3301 - val_acc: 0.8667\n",
            "Epoch 122/200\n",
            "173/173 [==============================] - 0s 28us/step - loss: 0.2278 - acc: 0.9075 - val_loss: 0.3305 - val_acc: 0.8667\n",
            "Epoch 123/200\n",
            "173/173 [==============================] - 0s 27us/step - loss: 0.2263 - acc: 0.9133 - val_loss: 0.3309 - val_acc: 0.8667\n",
            "Epoch 124/200\n",
            "173/173 [==============================] - 0s 32us/step - loss: 0.2248 - acc: 0.9133 - val_loss: 0.3311 - val_acc: 0.8667\n",
            "Epoch 125/200\n",
            "173/173 [==============================] - 0s 28us/step - loss: 0.2233 - acc: 0.9133 - val_loss: 0.3316 - val_acc: 0.8667\n",
            "Epoch 126/200\n",
            "173/173 [==============================] - 0s 24us/step - loss: 0.2218 - acc: 0.9133 - val_loss: 0.3315 - val_acc: 0.8667\n",
            "Epoch 127/200\n",
            "173/173 [==============================] - 0s 27us/step - loss: 0.2202 - acc: 0.9075 - val_loss: 0.3321 - val_acc: 0.8667\n",
            "Epoch 128/200\n",
            "173/173 [==============================] - 0s 29us/step - loss: 0.2188 - acc: 0.9133 - val_loss: 0.3325 - val_acc: 0.8667\n",
            "Epoch 129/200\n",
            "173/173 [==============================] - 0s 29us/step - loss: 0.2172 - acc: 0.9075 - val_loss: 0.3333 - val_acc: 0.8667\n",
            "Epoch 130/200\n",
            "173/173 [==============================] - 0s 26us/step - loss: 0.2158 - acc: 0.9133 - val_loss: 0.3333 - val_acc: 0.8667\n",
            "Epoch 131/200\n",
            "173/173 [==============================] - 0s 39us/step - loss: 0.2144 - acc: 0.9133 - val_loss: 0.3343 - val_acc: 0.8667\n",
            "Epoch 132/200\n",
            "173/173 [==============================] - 0s 31us/step - loss: 0.2129 - acc: 0.9133 - val_loss: 0.3340 - val_acc: 0.8667\n",
            "Epoch 133/200\n",
            "173/173 [==============================] - 0s 24us/step - loss: 0.2114 - acc: 0.9075 - val_loss: 0.3349 - val_acc: 0.8667\n",
            "Epoch 134/200\n",
            "173/173 [==============================] - 0s 35us/step - loss: 0.2101 - acc: 0.9133 - val_loss: 0.3343 - val_acc: 0.8667\n",
            "Epoch 135/200\n",
            "173/173 [==============================] - 0s 25us/step - loss: 0.2087 - acc: 0.9133 - val_loss: 0.3356 - val_acc: 0.8667\n",
            "Epoch 136/200\n",
            "173/173 [==============================] - 0s 34us/step - loss: 0.2072 - acc: 0.9133 - val_loss: 0.3353 - val_acc: 0.8667\n",
            "Epoch 137/200\n",
            "173/173 [==============================] - 0s 33us/step - loss: 0.2057 - acc: 0.9133 - val_loss: 0.3359 - val_acc: 0.8667\n",
            "Epoch 138/200\n",
            "173/173 [==============================] - 0s 31us/step - loss: 0.2044 - acc: 0.9133 - val_loss: 0.3361 - val_acc: 0.8667\n",
            "Epoch 139/200\n",
            "173/173 [==============================] - 0s 35us/step - loss: 0.2029 - acc: 0.9133 - val_loss: 0.3372 - val_acc: 0.8667\n",
            "Epoch 140/200\n",
            "173/173 [==============================] - 0s 38us/step - loss: 0.2015 - acc: 0.9133 - val_loss: 0.3375 - val_acc: 0.8667\n",
            "Epoch 141/200\n",
            "173/173 [==============================] - 0s 39us/step - loss: 0.2002 - acc: 0.9133 - val_loss: 0.3376 - val_acc: 0.8667\n",
            "Epoch 142/200\n",
            "173/173 [==============================] - 0s 26us/step - loss: 0.1987 - acc: 0.9133 - val_loss: 0.3389 - val_acc: 0.8667\n",
            "Epoch 143/200\n",
            "173/173 [==============================] - 0s 34us/step - loss: 0.1973 - acc: 0.9191 - val_loss: 0.3393 - val_acc: 0.8667\n",
            "Epoch 144/200\n",
            "173/173 [==============================] - 0s 30us/step - loss: 0.1959 - acc: 0.9133 - val_loss: 0.3401 - val_acc: 0.8667\n",
            "Epoch 145/200\n",
            "173/173 [==============================] - 0s 38us/step - loss: 0.1947 - acc: 0.9191 - val_loss: 0.3403 - val_acc: 0.8667\n",
            "Epoch 146/200\n",
            "173/173 [==============================] - 0s 22us/step - loss: 0.1933 - acc: 0.9249 - val_loss: 0.3410 - val_acc: 0.8667\n",
            "Epoch 147/200\n",
            "173/173 [==============================] - 0s 29us/step - loss: 0.1919 - acc: 0.9364 - val_loss: 0.3410 - val_acc: 0.8667\n",
            "Epoch 148/200\n",
            "173/173 [==============================] - 0s 28us/step - loss: 0.1905 - acc: 0.9364 - val_loss: 0.3411 - val_acc: 0.8667\n",
            "Epoch 149/200\n",
            "173/173 [==============================] - 0s 16us/step - loss: 0.1892 - acc: 0.9364 - val_loss: 0.3429 - val_acc: 0.8667\n",
            "Epoch 150/200\n",
            "173/173 [==============================] - 0s 26us/step - loss: 0.1879 - acc: 0.9364 - val_loss: 0.3423 - val_acc: 0.8667\n",
            "Epoch 151/200\n",
            "173/173 [==============================] - 0s 19us/step - loss: 0.1865 - acc: 0.9364 - val_loss: 0.3435 - val_acc: 0.8667\n",
            "Epoch 152/200\n",
            "173/173 [==============================] - 0s 78us/step - loss: 0.1852 - acc: 0.9364 - val_loss: 0.3428 - val_acc: 0.8667\n",
            "Epoch 153/200\n",
            "173/173 [==============================] - 0s 24us/step - loss: 0.1839 - acc: 0.9364 - val_loss: 0.3445 - val_acc: 0.8667\n",
            "Epoch 154/200\n",
            "173/173 [==============================] - 0s 23us/step - loss: 0.1826 - acc: 0.9364 - val_loss: 0.3445 - val_acc: 0.8500\n",
            "Epoch 155/200\n",
            "173/173 [==============================] - 0s 31us/step - loss: 0.1813 - acc: 0.9364 - val_loss: 0.3458 - val_acc: 0.8500\n",
            "Epoch 156/200\n",
            "173/173 [==============================] - 0s 32us/step - loss: 0.1801 - acc: 0.9364 - val_loss: 0.3454 - val_acc: 0.8500\n",
            "Epoch 157/200\n",
            "173/173 [==============================] - 0s 29us/step - loss: 0.1787 - acc: 0.9364 - val_loss: 0.3461 - val_acc: 0.8500\n",
            "Epoch 158/200\n",
            "173/173 [==============================] - 0s 29us/step - loss: 0.1774 - acc: 0.9364 - val_loss: 0.3476 - val_acc: 0.8500\n",
            "Epoch 159/200\n",
            "173/173 [==============================] - 0s 31us/step - loss: 0.1761 - acc: 0.9422 - val_loss: 0.3471 - val_acc: 0.8500\n",
            "Epoch 160/200\n",
            "173/173 [==============================] - 0s 29us/step - loss: 0.1748 - acc: 0.9422 - val_loss: 0.3488 - val_acc: 0.8500\n",
            "Epoch 161/200\n",
            "173/173 [==============================] - 0s 23us/step - loss: 0.1736 - acc: 0.9480 - val_loss: 0.3480 - val_acc: 0.8500\n",
            "Epoch 162/200\n",
            "173/173 [==============================] - 0s 22us/step - loss: 0.1723 - acc: 0.9480 - val_loss: 0.3490 - val_acc: 0.8500\n",
            "Epoch 163/200\n",
            "173/173 [==============================] - 0s 24us/step - loss: 0.1710 - acc: 0.9538 - val_loss: 0.3494 - val_acc: 0.8500\n",
            "Epoch 164/200\n",
            "173/173 [==============================] - 0s 25us/step - loss: 0.1698 - acc: 0.9480 - val_loss: 0.3505 - val_acc: 0.8500\n",
            "Epoch 165/200\n",
            "173/173 [==============================] - 0s 28us/step - loss: 0.1686 - acc: 0.9595 - val_loss: 0.3511 - val_acc: 0.8500\n",
            "Epoch 166/200\n",
            "173/173 [==============================] - 0s 29us/step - loss: 0.1672 - acc: 0.9595 - val_loss: 0.3511 - val_acc: 0.8500\n",
            "Epoch 167/200\n",
            "173/173 [==============================] - 0s 22us/step - loss: 0.1659 - acc: 0.9595 - val_loss: 0.3529 - val_acc: 0.8500\n",
            "Epoch 168/200\n",
            "173/173 [==============================] - 0s 27us/step - loss: 0.1647 - acc: 0.9653 - val_loss: 0.3525 - val_acc: 0.8500\n",
            "Epoch 169/200\n",
            "173/173 [==============================] - 0s 26us/step - loss: 0.1634 - acc: 0.9595 - val_loss: 0.3546 - val_acc: 0.8500\n",
            "Epoch 170/200\n",
            "173/173 [==============================] - 0s 27us/step - loss: 0.1622 - acc: 0.9653 - val_loss: 0.3536 - val_acc: 0.8500\n",
            "Epoch 171/200\n",
            "173/173 [==============================] - 0s 29us/step - loss: 0.1610 - acc: 0.9711 - val_loss: 0.3552 - val_acc: 0.8500\n",
            "Epoch 172/200\n",
            "173/173 [==============================] - 0s 29us/step - loss: 0.1597 - acc: 0.9711 - val_loss: 0.3560 - val_acc: 0.8500\n",
            "Epoch 173/200\n",
            "173/173 [==============================] - 0s 24us/step - loss: 0.1586 - acc: 0.9711 - val_loss: 0.3568 - val_acc: 0.8500\n",
            "Epoch 174/200\n",
            "173/173 [==============================] - 0s 27us/step - loss: 0.1573 - acc: 0.9711 - val_loss: 0.3566 - val_acc: 0.8500\n",
            "Epoch 175/200\n",
            "173/173 [==============================] - 0s 24us/step - loss: 0.1562 - acc: 0.9711 - val_loss: 0.3583 - val_acc: 0.8500\n",
            "Epoch 176/200\n",
            "173/173 [==============================] - 0s 28us/step - loss: 0.1549 - acc: 0.9711 - val_loss: 0.3593 - val_acc: 0.8500\n",
            "Epoch 177/200\n",
            "173/173 [==============================] - 0s 26us/step - loss: 0.1538 - acc: 0.9711 - val_loss: 0.3600 - val_acc: 0.8500\n",
            "Epoch 178/200\n",
            "173/173 [==============================] - 0s 18us/step - loss: 0.1526 - acc: 0.9711 - val_loss: 0.3610 - val_acc: 0.8500\n",
            "Epoch 179/200\n",
            "173/173 [==============================] - 0s 20us/step - loss: 0.1515 - acc: 0.9711 - val_loss: 0.3616 - val_acc: 0.8500\n",
            "Epoch 180/200\n",
            "173/173 [==============================] - 0s 17us/step - loss: 0.1503 - acc: 0.9711 - val_loss: 0.3623 - val_acc: 0.8500\n",
            "Epoch 181/200\n",
            "173/173 [==============================] - 0s 21us/step - loss: 0.1492 - acc: 0.9711 - val_loss: 0.3634 - val_acc: 0.8500\n",
            "Epoch 182/200\n",
            "173/173 [==============================] - 0s 26us/step - loss: 0.1481 - acc: 0.9711 - val_loss: 0.3641 - val_acc: 0.8500\n",
            "Epoch 183/200\n",
            "173/173 [==============================] - 0s 33us/step - loss: 0.1470 - acc: 0.9711 - val_loss: 0.3659 - val_acc: 0.8500\n",
            "Epoch 184/200\n",
            "173/173 [==============================] - 0s 28us/step - loss: 0.1459 - acc: 0.9711 - val_loss: 0.3651 - val_acc: 0.8500\n",
            "Epoch 185/200\n",
            "173/173 [==============================] - 0s 31us/step - loss: 0.1448 - acc: 0.9711 - val_loss: 0.3679 - val_acc: 0.8500\n",
            "Epoch 186/200\n",
            "173/173 [==============================] - 0s 30us/step - loss: 0.1436 - acc: 0.9711 - val_loss: 0.3679 - val_acc: 0.8500\n",
            "Epoch 187/200\n",
            "173/173 [==============================] - 0s 29us/step - loss: 0.1426 - acc: 0.9711 - val_loss: 0.3693 - val_acc: 0.8500\n",
            "Epoch 188/200\n",
            "173/173 [==============================] - 0s 25us/step - loss: 0.1415 - acc: 0.9711 - val_loss: 0.3697 - val_acc: 0.8500\n",
            "Epoch 189/200\n",
            "173/173 [==============================] - 0s 31us/step - loss: 0.1404 - acc: 0.9711 - val_loss: 0.3723 - val_acc: 0.8500\n",
            "Epoch 190/200\n",
            "173/173 [==============================] - 0s 35us/step - loss: 0.1395 - acc: 0.9711 - val_loss: 0.3712 - val_acc: 0.8500\n",
            "Epoch 191/200\n",
            "173/173 [==============================] - 0s 33us/step - loss: 0.1384 - acc: 0.9711 - val_loss: 0.3756 - val_acc: 0.8500\n",
            "Epoch 192/200\n",
            "173/173 [==============================] - 0s 29us/step - loss: 0.1375 - acc: 0.9711 - val_loss: 0.3733 - val_acc: 0.8500\n",
            "Epoch 193/200\n",
            "173/173 [==============================] - 0s 35us/step - loss: 0.1363 - acc: 0.9711 - val_loss: 0.3779 - val_acc: 0.8500\n",
            "Epoch 194/200\n",
            "173/173 [==============================] - 0s 32us/step - loss: 0.1354 - acc: 0.9711 - val_loss: 0.3760 - val_acc: 0.8500\n",
            "Epoch 195/200\n",
            "173/173 [==============================] - 0s 52us/step - loss: 0.1342 - acc: 0.9711 - val_loss: 0.3790 - val_acc: 0.8500\n",
            "Epoch 196/200\n",
            "173/173 [==============================] - 0s 35us/step - loss: 0.1332 - acc: 0.9711 - val_loss: 0.3780 - val_acc: 0.8500\n",
            "Epoch 197/200\n",
            "173/173 [==============================] - 0s 29us/step - loss: 0.1322 - acc: 0.9711 - val_loss: 0.3824 - val_acc: 0.8500\n",
            "Epoch 198/200\n",
            "173/173 [==============================] - 0s 26us/step - loss: 0.1313 - acc: 0.9711 - val_loss: 0.3802 - val_acc: 0.8500\n",
            "Epoch 199/200\n",
            "173/173 [==============================] - 0s 26us/step - loss: 0.1302 - acc: 0.9711 - val_loss: 0.3849 - val_acc: 0.8500\n",
            "Epoch 200/200\n",
            "173/173 [==============================] - 0s 26us/step - loss: 0.1293 - acc: 0.9711 - val_loss: 0.3828 - val_acc: 0.8500\n"
          ],
          "name": "stdout"
        }
      ]
    },
    {
      "metadata": {
        "id": "K34xpEkxDlkw",
        "colab_type": "code",
        "colab": {
          "base_uri": "https://localhost:8080/",
          "height": 34
        },
        "outputId": "12af084a-5c8b-4300-c3b6-572f57e087a7"
      },
      "cell_type": "code",
      "source": [
        "history_dict = history.history\n",
        "history_dict.keys()"
      ],
      "execution_count": 251,
      "outputs": [
        {
          "output_type": "execute_result",
          "data": {
            "text/plain": [
              "dict_keys(['val_loss', 'val_acc', 'loss', 'acc'])"
            ]
          },
          "metadata": {
            "tags": []
          },
          "execution_count": 251
        }
      ]
    },
    {
      "metadata": {
        "id": "BBouHUNJDoKQ",
        "colab_type": "code",
        "colab": {
          "base_uri": "https://localhost:8080/",
          "height": 376
        },
        "outputId": "5a505caa-69b8-475e-cdf6-6085a1009359"
      },
      "cell_type": "code",
      "source": [
        "import matplotlib.pyplot as plt\n",
        "\n",
        "acc = history.history['acc']\n",
        "val_acc = history.history['val_acc']\n",
        "loss = history.history['loss']\n",
        "val_loss = history.history['val_loss']\n",
        "\n",
        "epochs = range(1, len(acc) + 1)\n",
        "\n",
        "# \"bo\" is for \"blue dot\"\n",
        "plt.plot(epochs, loss, 'bo', label='Training loss')\n",
        "# b is for \"solid blue line\"\n",
        "plt.plot(epochs, val_loss, 'b', label='Validation loss')\n",
        "plt.title('Training and validation loss')\n",
        "plt.xlabel('Epochs')\n",
        "plt.ylabel('Loss')\n",
        "plt.legend()\n",
        "\n",
        "plt.show()"
      ],
      "execution_count": 252,
      "outputs": [
        {
          "output_type": "display_data",
          "data": {
            "image/png": "[encoded data removed]",
            "text/plain": [
              "<Figure size 576x396 with 1 Axes>"
            ]
          },
          "metadata": {
            "tags": []
          }
        }
      ]
    },
    {
      "metadata": {
        "id": "bT6Fa1FhD-TZ",
        "colab_type": "code",
        "colab": {
          "base_uri": "https://localhost:8080/",
          "height": 376
        },
        "outputId": "74818aeb-de1a-403a-805a-7d8592e77e59"
      },
      "cell_type": "code",
      "source": [
        "\n",
        "plt.clf()   # clear figure\n",
        "acc_values = history_dict['acc']\n",
        "val_acc_values = history_dict['val_acc']\n",
        "\n",
        "plt.plot(epochs, acc, 'bo', label='Training acc')\n",
        "plt.plot(epochs, val_acc, 'b', label='Validation acc')\n",
        "plt.title('Training and validation accuracy')\n",
        "plt.xlabel('Epochs')\n",
        "plt.ylabel('Loss')\n",
        "plt.legend()\n",
        "\n",
        "plt.show()"
      ],
      "execution_count": 254,
      "outputs": [
        {
          "output_type": "display_data",
          "data": {
            "image/png": "[encoded data removed]",
            "text/plain": [
              "<Figure size 576x396 with 1 Axes>"
            ]
          },
          "metadata": {
            "tags": []
          }
        }
      ]
    },
    {
      "metadata": {
        "id": "zj_Mip9yE8aZ",
        "colab_type": "code",
        "colab": {
          "base_uri": "https://localhost:8080/",
          "height": 2414
        },
        "outputId": "ad90c25a-dc16-4cd2-d748-ea8dbd41b202"
      },
      "cell_type": "code",
      "source": [
        "model = models.Sequential()\n",
        "model.add(layers.Dense(36, activation='relu', input_shape=(train_data.shape[1],)))\n",
        "model.add(layers.Dense(12, activation='relu'))\n",
        "model.add(layers.Dense(1, activation='sigmoid'))\n",
        "\n",
        "model.compile(optimizer='rmsprop',\n",
        "              loss='binary_crossentropy',\n",
        "              metrics=['accuracy'])\n",
        "\n",
        "model.fit(train_data, train_targets, epochs=70, batch_size=512)\n",
        "results = model.evaluate(test_data, test_targets)"
      ],
      "execution_count": 255,
      "outputs": [
        {
          "output_type": "stream",
          "text": [
            "Epoch 1/70\n",
            "233/233 [==============================] - 1s 5ms/step - loss: 0.8685 - acc: 0.5365\n",
            "Epoch 2/70\n",
            "233/233 [==============================] - 0s 26us/step - loss: 0.8162 - acc: 0.5408\n",
            "Epoch 3/70\n",
            "233/233 [==============================] - 0s 9us/step - loss: 0.7831 - acc: 0.5536\n",
            "Epoch 4/70\n",
            "233/233 [==============================] - 0s 20us/step - loss: 0.7587 - acc: 0.5622\n",
            "Epoch 5/70\n",
            "233/233 [==============================] - 0s 16us/step - loss: 0.7382 - acc: 0.5622\n",
            "Epoch 6/70\n",
            "233/233 [==============================] - 0s 11us/step - loss: 0.7207 - acc: 0.5665\n",
            "Epoch 7/70\n",
            "233/233 [==============================] - 0s 8us/step - loss: 0.7056 - acc: 0.5665\n",
            "Epoch 8/70\n",
            "233/233 [==============================] - 0s 8us/step - loss: 0.6922 - acc: 0.5708\n",
            "Epoch 9/70\n",
            "233/233 [==============================] - 0s 6us/step - loss: 0.6800 - acc: 0.5837\n",
            "Epoch 10/70\n",
            "233/233 [==============================] - 0s 6us/step - loss: 0.6684 - acc: 0.5837\n",
            "Epoch 11/70\n",
            "233/233 [==============================] - 0s 6us/step - loss: 0.6576 - acc: 0.5837\n",
            "Epoch 12/70\n",
            "233/233 [==============================] - 0s 7us/step - loss: 0.6474 - acc: 0.6009\n",
            "Epoch 13/70\n",
            "233/233 [==============================] - 0s 7us/step - loss: 0.6378 - acc: 0.6223\n",
            "Epoch 14/70\n",
            "233/233 [==============================] - 0s 8us/step - loss: 0.6287 - acc: 0.6309\n",
            "Epoch 15/70\n",
            "233/233 [==============================] - 0s 10us/step - loss: 0.6200 - acc: 0.6438\n",
            "Epoch 16/70\n",
            "233/233 [==============================] - 0s 8us/step - loss: 0.6117 - acc: 0.6567\n",
            "Epoch 17/70\n",
            "233/233 [==============================] - 0s 10us/step - loss: 0.6038 - acc: 0.6738\n",
            "Epoch 18/70\n",
            "233/233 [==============================] - 0s 7us/step - loss: 0.5963 - acc: 0.6781\n",
            "Epoch 19/70\n",
            "233/233 [==============================] - 0s 8us/step - loss: 0.5890 - acc: 0.6824\n",
            "Epoch 20/70\n",
            "233/233 [==============================] - 0s 7us/step - loss: 0.5820 - acc: 0.6953\n",
            "Epoch 21/70\n",
            "233/233 [==============================] - 0s 8us/step - loss: 0.5753 - acc: 0.6996\n",
            "Epoch 22/70\n",
            "233/233 [==============================] - 0s 7us/step - loss: 0.5686 - acc: 0.7039\n",
            "Epoch 23/70\n",
            "233/233 [==============================] - 0s 7us/step - loss: 0.5620 - acc: 0.7210\n",
            "Epoch 24/70\n",
            "233/233 [==============================] - 0s 12us/step - loss: 0.5556 - acc: 0.7339\n",
            "Epoch 25/70\n",
            "233/233 [==============================] - 0s 8us/step - loss: 0.5492 - acc: 0.7597\n",
            "Epoch 26/70\n",
            "233/233 [==============================] - 0s 8us/step - loss: 0.5430 - acc: 0.7597\n",
            "Epoch 27/70\n",
            "233/233 [==============================] - 0s 7us/step - loss: 0.5369 - acc: 0.7639\n",
            "Epoch 28/70\n",
            "233/233 [==============================] - 0s 8us/step - loss: 0.5311 - acc: 0.7682\n",
            "Epoch 29/70\n",
            "233/233 [==============================] - 0s 7us/step - loss: 0.5255 - acc: 0.7725\n",
            "Epoch 30/70\n",
            "233/233 [==============================] - 0s 8us/step - loss: 0.5201 - acc: 0.7768\n",
            "Epoch 31/70\n",
            "233/233 [==============================] - 0s 7us/step - loss: 0.5148 - acc: 0.7811\n",
            "Epoch 32/70\n",
            "233/233 [==============================] - 0s 7us/step - loss: 0.5096 - acc: 0.7811\n",
            "Epoch 33/70\n",
            "233/233 [==============================] - 0s 7us/step - loss: 0.5046 - acc: 0.7897\n",
            "Epoch 34/70\n",
            "233/233 [==============================] - 0s 7us/step - loss: 0.4996 - acc: 0.7983\n",
            "Epoch 35/70\n",
            "233/233 [==============================] - 0s 6us/step - loss: 0.4947 - acc: 0.8026\n",
            "Epoch 36/70\n",
            "233/233 [==============================] - 0s 6us/step - loss: 0.4899 - acc: 0.8112\n",
            "Epoch 37/70\n",
            "233/233 [==============================] - 0s 7us/step - loss: 0.4851 - acc: 0.8069\n",
            "Epoch 38/70\n",
            "233/233 [==============================] - 0s 7us/step - loss: 0.4803 - acc: 0.8112\n",
            "Epoch 39/70\n",
            "233/233 [==============================] - 0s 7us/step - loss: 0.4757 - acc: 0.8155\n",
            "Epoch 40/70\n",
            "233/233 [==============================] - 0s 7us/step - loss: 0.4712 - acc: 0.8155\n",
            "Epoch 41/70\n",
            "233/233 [==============================] - 0s 7us/step - loss: 0.4668 - acc: 0.8283\n",
            "Epoch 42/70\n",
            "233/233 [==============================] - 0s 7us/step - loss: 0.4623 - acc: 0.8283\n",
            "Epoch 43/70\n",
            "233/233 [==============================] - 0s 7us/step - loss: 0.4580 - acc: 0.8283\n",
            "Epoch 44/70\n",
            "233/233 [==============================] - 0s 6us/step - loss: 0.4536 - acc: 0.8326\n",
            "Epoch 45/70\n",
            "233/233 [==============================] - 0s 6us/step - loss: 0.4494 - acc: 0.8412\n",
            "Epoch 46/70\n",
            "233/233 [==============================] - 0s 6us/step - loss: 0.4453 - acc: 0.8412\n",
            "Epoch 47/70\n",
            "233/233 [==============================] - 0s 7us/step - loss: 0.4412 - acc: 0.8412\n",
            "Epoch 48/70\n",
            "233/233 [==============================] - 0s 7us/step - loss: 0.4373 - acc: 0.8412\n",
            "Epoch 49/70\n",
            "233/233 [==============================] - 0s 20us/step - loss: 0.4334 - acc: 0.8412\n",
            "Epoch 50/70\n",
            "233/233 [==============================] - 0s 19us/step - loss: 0.4296 - acc: 0.8369\n",
            "Epoch 51/70\n",
            "233/233 [==============================] - 0s 16us/step - loss: 0.4258 - acc: 0.8369\n",
            "Epoch 52/70\n",
            "233/233 [==============================] - 0s 12us/step - loss: 0.4220 - acc: 0.8412\n",
            "Epoch 53/70\n",
            "233/233 [==============================] - 0s 13us/step - loss: 0.4183 - acc: 0.8412\n",
            "Epoch 54/70\n",
            "233/233 [==============================] - 0s 9us/step - loss: 0.4146 - acc: 0.8455\n",
            "Epoch 55/70\n",
            "233/233 [==============================] - 0s 9us/step - loss: 0.4110 - acc: 0.8498\n",
            "Epoch 56/70\n",
            "233/233 [==============================] - 0s 9us/step - loss: 0.4074 - acc: 0.8498\n",
            "Epoch 57/70\n",
            "233/233 [==============================] - 0s 15us/step - loss: 0.4038 - acc: 0.8498\n",
            "Epoch 58/70\n",
            "233/233 [==============================] - 0s 11us/step - loss: 0.4001 - acc: 0.8541\n",
            "Epoch 59/70\n",
            "233/233 [==============================] - 0s 16us/step - loss: 0.3965 - acc: 0.8541\n",
            "Epoch 60/70\n",
            "233/233 [==============================] - 0s 9us/step - loss: 0.3930 - acc: 0.8541\n",
            "Epoch 61/70\n",
            "233/233 [==============================] - 0s 9us/step - loss: 0.3895 - acc: 0.8541\n",
            "Epoch 62/70\n",
            "233/233 [==============================] - 0s 12us/step - loss: 0.3860 - acc: 0.8541\n",
            "Epoch 63/70\n",
            "233/233 [==============================] - 0s 12us/step - loss: 0.3826 - acc: 0.8541\n",
            "Epoch 64/70\n",
            "233/233 [==============================] - 0s 8us/step - loss: 0.3793 - acc: 0.8584\n",
            "Epoch 65/70\n",
            "233/233 [==============================] - 0s 11us/step - loss: 0.3760 - acc: 0.8584\n",
            "Epoch 66/70\n",
            "233/233 [==============================] - 0s 12us/step - loss: 0.3727 - acc: 0.8584\n",
            "Epoch 67/70\n",
            "233/233 [==============================] - 0s 10us/step - loss: 0.3694 - acc: 0.8584\n",
            "Epoch 68/70\n",
            "233/233 [==============================] - 0s 11us/step - loss: 0.3662 - acc: 0.8541\n",
            "Epoch 69/70\n",
            "233/233 [==============================] - 0s 10us/step - loss: 0.3631 - acc: 0.8584\n",
            "Epoch 70/70\n",
            "233/233 [==============================] - 0s 16us/step - loss: 0.3600 - acc: 0.8627\n",
            "70/70 [==============================] - 1s 7ms/step\n"
          ],
          "name": "stdout"
        }
      ]
    },
    {
      "metadata": {
        "id": "UG-JGfyRGFLM",
        "colab_type": "code",
        "colab": {
          "base_uri": "https://localhost:8080/",
          "height": 34
        },
        "outputId": "ba3de54e-70bc-4671-fe34-1e9bf5a5b0fa"
      },
      "cell_type": "code",
      "source": [
        "results"
      ],
      "execution_count": 256,
      "outputs": [
        {
          "output_type": "execute_result",
          "data": {
            "text/plain": [
              "[0.4512909799814224, 0.7857142857142857]"
            ]
          },
          "metadata": {
            "tags": []
          },
          "execution_count": 256
        }
      ]
    },
    {
      "metadata": {
        "id": "3cMeuo09H4xR",
        "colab_type": "code",
        "colab": {
          "base_uri": "https://localhost:8080/",
          "height": 1207
        },
        "outputId": "45cd5c5c-b0b9-4478-a09e-cefda2021039"
      },
      "cell_type": "code",
      "source": [
        "model.predict(x_test)"
      ],
      "execution_count": 257,
      "outputs": [
        {
          "output_type": "execute_result",
          "data": {
            "text/plain": [
              "array([[0.4664969 ],\n",
              "       [0.38835636],\n",
              "       [0.95747745],\n",
              "       [0.34350342],\n",
              "       [0.68710446],\n",
              "       [0.1520366 ],\n",
              "       [0.68459374],\n",
              "       [0.9775095 ],\n",
              "       [0.25404334],\n",
              "       [0.8986783 ],\n",
              "       [0.9670151 ],\n",
              "       [0.8877866 ],\n",
              "       [0.94449234],\n",
              "       [0.5064558 ],\n",
              "       [0.8692442 ],\n",
              "       [0.1842938 ],\n",
              "       [0.5833175 ],\n",
              "       [0.91524494],\n",
              "       [0.96436787],\n",
              "       [0.320462  ],\n",
              "       [0.44056967],\n",
              "       [0.468897  ],\n",
              "       [0.73943406],\n",
              "       [0.26680905],\n",
              "       [0.2741361 ],\n",
              "       [0.2494502 ],\n",
              "       [0.192781  ],\n",
              "       [0.82433224],\n",
              "       [0.8801539 ],\n",
              "       [0.9919307 ],\n",
              "       [0.6775497 ],\n",
              "       [0.3021637 ],\n",
              "       [0.9503819 ],\n",
              "       [0.20410228],\n",
              "       [0.22122166],\n",
              "       [0.69603544],\n",
              "       [0.12090996],\n",
              "       [0.11442384],\n",
              "       [0.89038926],\n",
              "       [0.6579139 ],\n",
              "       [0.91575027],\n",
              "       [0.9365368 ],\n",
              "       [0.33627024],\n",
              "       [0.76780665],\n",
              "       [0.23526287],\n",
              "       [0.24142915],\n",
              "       [0.8951533 ],\n",
              "       [0.06887916],\n",
              "       [0.45196   ],\n",
              "       [0.11888561],\n",
              "       [0.7834319 ],\n",
              "       [0.21931034],\n",
              "       [0.4587862 ],\n",
              "       [0.95391536],\n",
              "       [0.6405183 ],\n",
              "       [0.45385244],\n",
              "       [0.40181047],\n",
              "       [0.9606507 ],\n",
              "       [0.92300713],\n",
              "       [0.9900662 ],\n",
              "       [0.7819594 ],\n",
              "       [0.5440548 ],\n",
              "       [0.6595698 ],\n",
              "       [0.5407449 ],\n",
              "       [0.7545486 ],\n",
              "       [0.6410685 ],\n",
              "       [0.17597817],\n",
              "       [0.2152966 ],\n",
              "       [0.8964866 ],\n",
              "       [0.2182034 ]], dtype=float32)"
            ]
          },
          "metadata": {
            "tags": []
          },
          "execution_count": 257
        }
      ]
    }
  ]
}